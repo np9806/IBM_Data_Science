{
 "cells": [
  {
   "cell_type": "markdown",
   "id": "b3869f11-d7b2-46e3-bc43-33c072c8ff85",
   "metadata": {},
   "source": [
    "# Data Science Tools and Ecosystem"
   ]
  },
  {
   "cell_type": "markdown",
   "id": "da52b34a-fc24-40c7-b634-c2b62ee57fee",
   "metadata": {},
   "source": [
    "In this notebook, Data Science Tools and Ecosystem are summarized."
   ]
  },
  {
   "cell_type": "markdown",
   "id": "4e8b56d5-069c-423e-85fa-20096181d5ef",
   "metadata": {},
   "source": [
    "*Objectives:*\n",
    "- Popular Data Science Languages\n",
    "- Commonly Used Libraries\n",
    "- Arithmetic Examples"
   ]
  },
  {
   "cell_type": "markdown",
   "id": "2cc800ba-c72e-4e3e-abbb-d0bffac7a34e",
   "metadata": {},
   "source": [
    "Some of the popular languages that Data Scientists use are:\n",
    "1. Python\n",
    "2. R\n",
    "3. SQL"
   ]
  },
  {
   "cell_type": "markdown",
   "id": "8a735217-9766-424b-b35a-b5a4f6ab1cca",
   "metadata": {},
   "source": [
    "Some of the commonly used libraries used by Data Scientists include:\n",
    "1. NumPy\n",
    "2. Pandas\n",
    "3. BeautifulSoup"
   ]
  },
  {
   "cell_type": "markdown",
   "id": "7f9436eb-8991-4a19-adf4-7e3417932930",
   "metadata": {},
   "source": [
    "| Data Science Tools |\n",
    "|--------------------|\n",
    "|Jupyter|\n",
    "|RStudio|\n",
    "|Ray|"
   ]
  },
  {
   "cell_type": "markdown",
   "id": "6411f9d8-ce0e-4978-9be7-941dc0660202",
   "metadata": {},
   "source": [
    "### Below are a few examples of evaluating arithmetic expressions in Python."
   ]
  },
  {
   "cell_type": "code",
   "execution_count": 3,
   "id": "0cd1f25b-c1d2-4bc0-bc60-86053c4587e0",
   "metadata": {
    "tags": []
   },
   "outputs": [
    {
     "data": {
      "text/plain": [
       "17"
      ]
     },
     "execution_count": 3,
     "metadata": {},
     "output_type": "execute_result"
    }
   ],
   "source": [
    "# This is a simple arithmetic expression to multiply then add integers.\n",
    "(3*4)+5"
   ]
  },
  {
   "cell_type": "code",
   "execution_count": 5,
   "id": "69261c86-0e81-42a5-b0bb-75ac1085539b",
   "metadata": {
    "tags": []
   },
   "outputs": [
    {
     "name": "stdout",
     "output_type": "stream",
     "text": [
      "3.3333333333333335\n"
     ]
    }
   ],
   "source": [
    "#This will convert 200 minutes to hours by dividing by 60.\n",
    "minutes = 200\n",
    "hours = minutes / 60\n",
    "print(hours)"
   ]
  },
  {
   "cell_type": "code",
   "execution_count": null,
   "id": "74c93f55-4b00-4490-848f-0b8d9ac10f8d",
   "metadata": {},
   "outputs": [],
   "source": [
    "## Author: Nick Patrick"
   ]
  }
 ],
 "metadata": {
  "kernelspec": {
   "display_name": "Python",
   "language": "python",
   "name": "conda-env-python-py"
  },
  "language_info": {
   "codemirror_mode": {
    "name": "ipython",
    "version": 3
   },
   "file_extension": ".py",
   "mimetype": "text/x-python",
   "name": "python",
   "nbconvert_exporter": "python",
   "pygments_lexer": "ipython3",
   "version": "3.7.12"
  }
 },
 "nbformat": 4,
 "nbformat_minor": 5
}
